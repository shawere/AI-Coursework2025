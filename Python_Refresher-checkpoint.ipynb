{
 "cells": [
  {
   "cell_type": "code",
   "execution_count": 1,
   "id": "d9f17d41-7a97-415e-bae4-73cbe3f95c0e",
   "metadata": {},
   "outputs": [
    {
     "name": "stdin",
     "output_type": "stream",
     "text": [
      "How many days?  3\n"
     ]
    },
    {
     "name": "stdout",
     "output_type": "stream",
     "text": [
      "3 days = 259200 seconds\n"
     ]
    }
   ],
   "source": [
    "# Get number of days from user\n",
    "days = int(input(\"How many days? \"))\n",
    "\n",
    "# Calculate seconds (days * hours * minutes * seconds)\n",
    "seconds = days * 24 * 60 * 60\n",
    "\n",
    "# Show the result\n",
    "print(f\"{days} days = {seconds} seconds\")"
   ]
  },
  {
   "cell_type": "code",
   "execution_count": 2,
   "id": "3565baaa-194c-4192-880b-ca04e9774e18",
   "metadata": {},
   "outputs": [
    {
     "name": "stdin",
     "output_type": "stream",
     "text": [
      "Enter sphere radius:  3.5\n"
     ]
    },
    {
     "name": "stdout",
     "output_type": "stream",
     "text": [
      "Volume: 179.59\n"
     ]
    }
   ],
   "source": [
    "import math\n",
    "\n",
    "# Get the radius from user\n",
    "radius = float(input(\"Enter sphere radius: \"))\n",
    "\n",
    "# Calculate volume using formula (4/3)πr³\n",
    "volume = (4/3) * math.pi * (radius ** 3)\n",
    "\n",
    "# Round to 2 decimal places and display\n",
    "print(f\"Volume: {round(volume, 2)}\")"
   ]
  },
  {
   "cell_type": "code",
   "execution_count": null,
   "id": "79d9d3e7-3a3f-4092-a059-e664021385a1",
   "metadata": {},
   "outputs": [],
   "source": [
    "def calc_square(side):\n",
    "    \"\"\"Calculate area and perimeter of a square\"\"\"\n",
    "    area = side * side\n",
    "    perimeter = 4 * side\n",
    "    return area, perimeter\n",
    "\n",
    "# Get side length from user\n",
    "side_len = float(input(\"Enter square side length: \"))\n",
    "\n",
    "# Calculate and display results\n",
    "area_result, perimeter_result = calc_square(side_len)\n",
    "print(f\"Area: {area_result}\")\n",
    "print(f\"Perimeter: {perimeter_result}\")"
   ]
  },
  {
   "cell_type": "code",
   "execution_count": null,
   "id": "b457e629-6356-4b86-97e0-bc21dfac8955",
   "metadata": {},
   "outputs": [],
   "source": [
    "def check_case(char):\n",
    "    \"\"\"Check if a character is uppercase or lowercase\"\"\"\n",
    "    if char.isupper():\n",
    "        return \"uppercase\"\n",
    "    elif char.islower():\n",
    "        return \"lowercase\"\n",
    "    else:\n",
    "        return \"not a letter\"\n",
    "\n",
    "# Get character from user\n",
    "user_char = input(\"Enter a character: \")\n",
    "\n",
    "# Check and display case\n",
    "case = check_case(user_char)\n",
    "print(f\"'{user_char}' is {case}\")"
   ]
  },
  {
   "cell_type": "code",
   "execution_count": null,
   "id": "75aa4653-9be7-486c-8f83-a5d668422909",
   "metadata": {},
   "outputs": [],
   "source": [
    "# Initialize variables\n",
    "x = 0\n",
    "y = 20\n",
    "\n",
    "# Loop until condition is met\n",
    "while y >= 6:\n",
    "    y -= 4          # Subtract 4 from y\n",
    "    x += 2 / y      # Add 2/y to x\n",
    "\n",
    "# Display final result\n",
    "print(f\"Final x value: {x}\")"
   ]
  },
  {
   "cell_type": "code",
   "execution_count": null,
   "id": "8d587e58-ab34-4197-a44d-73b74399ab06",
   "metadata": {},
   "outputs": [],
   "source": [
    "# Initialize empty list\n",
    "numbers = []\n",
    "\n",
    "# Get 5 numbers from user\n",
    "print(\"Enter 5 numbers:\")\n",
    "for i in range(5):\n",
    "    num = float(input(f\"Number {i+1}: \"))\n",
    "    numbers.append(num)\n",
    "\n",
    "# Calculate average\n",
    "total = sum(numbers)\n",
    "average = total / len(numbers)\n",
    "\n",
    "# Display results\n",
    "print(f\"Numbers: {numbers}\")\n",
    "print(f\"Average: {average}\")"
   ]
  }
 ],
 "metadata": {
  "kernelspec": {
   "display_name": "Python [conda env:base] *",
   "language": "python",
   "name": "conda-base-py"
  },
  "language_info": {
   "codemirror_mode": {
    "name": "ipython",
    "version": 3
   },
   "file_extension": ".py",
   "mimetype": "text/x-python",
   "name": "python",
   "nbconvert_exporter": "python",
   "pygments_lexer": "ipython3",
   "version": "3.13.5"
  }
 },
 "nbformat": 4,
 "nbformat_minor": 5
}
